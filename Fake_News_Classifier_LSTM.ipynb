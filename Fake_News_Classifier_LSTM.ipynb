{
  "nbformat": 4,
  "nbformat_minor": 0,
  "metadata": {
    "colab": {
      "provenance": [],
      "gpuType": "T4",
      "authorship_tag": "ABX9TyPuhlLnetnx+NZqEKRFTvGk",
      "include_colab_link": true
    },
    "kernelspec": {
      "name": "python3",
      "display_name": "Python 3"
    },
    "language_info": {
      "name": "python"
    },
    "accelerator": "GPU"
  },
  "cells": [
    {
      "cell_type": "markdown",
      "metadata": {
        "id": "view-in-github",
        "colab_type": "text"
      },
      "source": [
        "<a href=\"https://colab.research.google.com/github/Dharshan4038/NLP/blob/main/Fake_News_Classifier_LSTM.ipynb\" target=\"_parent\"><img src=\"https://colab.research.google.com/assets/colab-badge.svg\" alt=\"Open In Colab\"/></a>"
      ]
    },
    {
      "cell_type": "code",
      "execution_count": 1,
      "metadata": {
        "id": "C6pbFO1udO8S"
      },
      "outputs": [],
      "source": [
        "import pandas as pd"
      ]
    },
    {
      "cell_type": "code",
      "source": [
        "from google.colab import drive\n",
        "drive.mount('/content/drive',force_remount=True)"
      ],
      "metadata": {
        "colab": {
          "base_uri": "https://localhost:8080/"
        },
        "id": "bzPzRid0dTEk",
        "outputId": "7c4009db-0bab-488a-8362-637b5f03b650"
      },
      "execution_count": 18,
      "outputs": [
        {
          "output_type": "stream",
          "name": "stdout",
          "text": [
            "Mounted at /content/drive\n"
          ]
        }
      ]
    },
    {
      "cell_type": "code",
      "source": [
        "df = pd.read_csv('/content/drive/MyDrive/Colab Notebooks/train.csv')"
      ],
      "metadata": {
        "id": "daw-sT27doN0"
      },
      "execution_count": 3,
      "outputs": []
    },
    {
      "cell_type": "code",
      "source": [
        "df.head()"
      ],
      "metadata": {
        "colab": {
          "base_uri": "https://localhost:8080/",
          "height": 226
        },
        "id": "NBs80drmmnEI",
        "outputId": "01e9a106-e164-47f9-8d85-f07ea861f16a"
      },
      "execution_count": 4,
      "outputs": [
        {
          "output_type": "execute_result",
          "data": {
            "text/plain": [
              "   id                                              title              author  \\\n",
              "0   0  House Dem Aide: We Didn’t Even See Comey’s Let...       Darrell Lucus   \n",
              "1   1  FLYNN: Hillary Clinton, Big Woman on Campus - ...     Daniel J. Flynn   \n",
              "2   2                  Why the Truth Might Get You Fired  Consortiumnews.com   \n",
              "3   3  15 Civilians Killed In Single US Airstrike Hav...     Jessica Purkiss   \n",
              "4   4  Iranian woman jailed for fictional unpublished...      Howard Portnoy   \n",
              "\n",
              "                                                text  label  \n",
              "0  House Dem Aide: We Didn’t Even See Comey’s Let...      1  \n",
              "1  Ever get the feeling your life circles the rou...      0  \n",
              "2  Why the Truth Might Get You Fired October 29, ...      1  \n",
              "3  Videos 15 Civilians Killed In Single US Airstr...      1  \n",
              "4  Print \\nAn Iranian woman has been sentenced to...      1  "
            ],
            "text/html": [
              "\n",
              "  <div id=\"df-7593aff1-e578-4ba8-ae70-98f4d8a67ac1\" class=\"colab-df-container\">\n",
              "    <div>\n",
              "<style scoped>\n",
              "    .dataframe tbody tr th:only-of-type {\n",
              "        vertical-align: middle;\n",
              "    }\n",
              "\n",
              "    .dataframe tbody tr th {\n",
              "        vertical-align: top;\n",
              "    }\n",
              "\n",
              "    .dataframe thead th {\n",
              "        text-align: right;\n",
              "    }\n",
              "</style>\n",
              "<table border=\"1\" class=\"dataframe\">\n",
              "  <thead>\n",
              "    <tr style=\"text-align: right;\">\n",
              "      <th></th>\n",
              "      <th>id</th>\n",
              "      <th>title</th>\n",
              "      <th>author</th>\n",
              "      <th>text</th>\n",
              "      <th>label</th>\n",
              "    </tr>\n",
              "  </thead>\n",
              "  <tbody>\n",
              "    <tr>\n",
              "      <th>0</th>\n",
              "      <td>0</td>\n",
              "      <td>House Dem Aide: We Didn’t Even See Comey’s Let...</td>\n",
              "      <td>Darrell Lucus</td>\n",
              "      <td>House Dem Aide: We Didn’t Even See Comey’s Let...</td>\n",
              "      <td>1</td>\n",
              "    </tr>\n",
              "    <tr>\n",
              "      <th>1</th>\n",
              "      <td>1</td>\n",
              "      <td>FLYNN: Hillary Clinton, Big Woman on Campus - ...</td>\n",
              "      <td>Daniel J. Flynn</td>\n",
              "      <td>Ever get the feeling your life circles the rou...</td>\n",
              "      <td>0</td>\n",
              "    </tr>\n",
              "    <tr>\n",
              "      <th>2</th>\n",
              "      <td>2</td>\n",
              "      <td>Why the Truth Might Get You Fired</td>\n",
              "      <td>Consortiumnews.com</td>\n",
              "      <td>Why the Truth Might Get You Fired October 29, ...</td>\n",
              "      <td>1</td>\n",
              "    </tr>\n",
              "    <tr>\n",
              "      <th>3</th>\n",
              "      <td>3</td>\n",
              "      <td>15 Civilians Killed In Single US Airstrike Hav...</td>\n",
              "      <td>Jessica Purkiss</td>\n",
              "      <td>Videos 15 Civilians Killed In Single US Airstr...</td>\n",
              "      <td>1</td>\n",
              "    </tr>\n",
              "    <tr>\n",
              "      <th>4</th>\n",
              "      <td>4</td>\n",
              "      <td>Iranian woman jailed for fictional unpublished...</td>\n",
              "      <td>Howard Portnoy</td>\n",
              "      <td>Print \\nAn Iranian woman has been sentenced to...</td>\n",
              "      <td>1</td>\n",
              "    </tr>\n",
              "  </tbody>\n",
              "</table>\n",
              "</div>\n",
              "    <div class=\"colab-df-buttons\">\n",
              "\n",
              "  <div class=\"colab-df-container\">\n",
              "    <button class=\"colab-df-convert\" onclick=\"convertToInteractive('df-7593aff1-e578-4ba8-ae70-98f4d8a67ac1')\"\n",
              "            title=\"Convert this dataframe to an interactive table.\"\n",
              "            style=\"display:none;\">\n",
              "\n",
              "  <svg xmlns=\"http://www.w3.org/2000/svg\" height=\"24px\" viewBox=\"0 -960 960 960\">\n",
              "    <path d=\"M120-120v-720h720v720H120Zm60-500h600v-160H180v160Zm220 220h160v-160H400v160Zm0 220h160v-160H400v160ZM180-400h160v-160H180v160Zm440 0h160v-160H620v160ZM180-180h160v-160H180v160Zm440 0h160v-160H620v160Z\"/>\n",
              "  </svg>\n",
              "    </button>\n",
              "\n",
              "  <style>\n",
              "    .colab-df-container {\n",
              "      display:flex;\n",
              "      gap: 12px;\n",
              "    }\n",
              "\n",
              "    .colab-df-convert {\n",
              "      background-color: #E8F0FE;\n",
              "      border: none;\n",
              "      border-radius: 50%;\n",
              "      cursor: pointer;\n",
              "      display: none;\n",
              "      fill: #1967D2;\n",
              "      height: 32px;\n",
              "      padding: 0 0 0 0;\n",
              "      width: 32px;\n",
              "    }\n",
              "\n",
              "    .colab-df-convert:hover {\n",
              "      background-color: #E2EBFA;\n",
              "      box-shadow: 0px 1px 2px rgba(60, 64, 67, 0.3), 0px 1px 3px 1px rgba(60, 64, 67, 0.15);\n",
              "      fill: #174EA6;\n",
              "    }\n",
              "\n",
              "    .colab-df-buttons div {\n",
              "      margin-bottom: 4px;\n",
              "    }\n",
              "\n",
              "    [theme=dark] .colab-df-convert {\n",
              "      background-color: #3B4455;\n",
              "      fill: #D2E3FC;\n",
              "    }\n",
              "\n",
              "    [theme=dark] .colab-df-convert:hover {\n",
              "      background-color: #434B5C;\n",
              "      box-shadow: 0px 1px 3px 1px rgba(0, 0, 0, 0.15);\n",
              "      filter: drop-shadow(0px 1px 2px rgba(0, 0, 0, 0.3));\n",
              "      fill: #FFFFFF;\n",
              "    }\n",
              "  </style>\n",
              "\n",
              "    <script>\n",
              "      const buttonEl =\n",
              "        document.querySelector('#df-7593aff1-e578-4ba8-ae70-98f4d8a67ac1 button.colab-df-convert');\n",
              "      buttonEl.style.display =\n",
              "        google.colab.kernel.accessAllowed ? 'block' : 'none';\n",
              "\n",
              "      async function convertToInteractive(key) {\n",
              "        const element = document.querySelector('#df-7593aff1-e578-4ba8-ae70-98f4d8a67ac1');\n",
              "        const dataTable =\n",
              "          await google.colab.kernel.invokeFunction('convertToInteractive',\n",
              "                                                    [key], {});\n",
              "        if (!dataTable) return;\n",
              "\n",
              "        const docLinkHtml = 'Like what you see? Visit the ' +\n",
              "          '<a target=\"_blank\" href=https://colab.research.google.com/notebooks/data_table.ipynb>data table notebook</a>'\n",
              "          + ' to learn more about interactive tables.';\n",
              "        element.innerHTML = '';\n",
              "        dataTable['output_type'] = 'display_data';\n",
              "        await google.colab.output.renderOutput(dataTable, element);\n",
              "        const docLink = document.createElement('div');\n",
              "        docLink.innerHTML = docLinkHtml;\n",
              "        element.appendChild(docLink);\n",
              "      }\n",
              "    </script>\n",
              "  </div>\n",
              "\n",
              "\n",
              "<div id=\"df-6f873657-d88d-4bdf-9d92-2fcfdd6c1dca\">\n",
              "  <button class=\"colab-df-quickchart\" onclick=\"quickchart('df-6f873657-d88d-4bdf-9d92-2fcfdd6c1dca')\"\n",
              "            title=\"Suggest charts\"\n",
              "            style=\"display:none;\">\n",
              "\n",
              "<svg xmlns=\"http://www.w3.org/2000/svg\" height=\"24px\"viewBox=\"0 0 24 24\"\n",
              "     width=\"24px\">\n",
              "    <g>\n",
              "        <path d=\"M19 3H5c-1.1 0-2 .9-2 2v14c0 1.1.9 2 2 2h14c1.1 0 2-.9 2-2V5c0-1.1-.9-2-2-2zM9 17H7v-7h2v7zm4 0h-2V7h2v10zm4 0h-2v-4h2v4z\"/>\n",
              "    </g>\n",
              "</svg>\n",
              "  </button>\n",
              "\n",
              "<style>\n",
              "  .colab-df-quickchart {\n",
              "      --bg-color: #E8F0FE;\n",
              "      --fill-color: #1967D2;\n",
              "      --hover-bg-color: #E2EBFA;\n",
              "      --hover-fill-color: #174EA6;\n",
              "      --disabled-fill-color: #AAA;\n",
              "      --disabled-bg-color: #DDD;\n",
              "  }\n",
              "\n",
              "  [theme=dark] .colab-df-quickchart {\n",
              "      --bg-color: #3B4455;\n",
              "      --fill-color: #D2E3FC;\n",
              "      --hover-bg-color: #434B5C;\n",
              "      --hover-fill-color: #FFFFFF;\n",
              "      --disabled-bg-color: #3B4455;\n",
              "      --disabled-fill-color: #666;\n",
              "  }\n",
              "\n",
              "  .colab-df-quickchart {\n",
              "    background-color: var(--bg-color);\n",
              "    border: none;\n",
              "    border-radius: 50%;\n",
              "    cursor: pointer;\n",
              "    display: none;\n",
              "    fill: var(--fill-color);\n",
              "    height: 32px;\n",
              "    padding: 0;\n",
              "    width: 32px;\n",
              "  }\n",
              "\n",
              "  .colab-df-quickchart:hover {\n",
              "    background-color: var(--hover-bg-color);\n",
              "    box-shadow: 0 1px 2px rgba(60, 64, 67, 0.3), 0 1px 3px 1px rgba(60, 64, 67, 0.15);\n",
              "    fill: var(--button-hover-fill-color);\n",
              "  }\n",
              "\n",
              "  .colab-df-quickchart-complete:disabled,\n",
              "  .colab-df-quickchart-complete:disabled:hover {\n",
              "    background-color: var(--disabled-bg-color);\n",
              "    fill: var(--disabled-fill-color);\n",
              "    box-shadow: none;\n",
              "  }\n",
              "\n",
              "  .colab-df-spinner {\n",
              "    border: 2px solid var(--fill-color);\n",
              "    border-color: transparent;\n",
              "    border-bottom-color: var(--fill-color);\n",
              "    animation:\n",
              "      spin 1s steps(1) infinite;\n",
              "  }\n",
              "\n",
              "  @keyframes spin {\n",
              "    0% {\n",
              "      border-color: transparent;\n",
              "      border-bottom-color: var(--fill-color);\n",
              "      border-left-color: var(--fill-color);\n",
              "    }\n",
              "    20% {\n",
              "      border-color: transparent;\n",
              "      border-left-color: var(--fill-color);\n",
              "      border-top-color: var(--fill-color);\n",
              "    }\n",
              "    30% {\n",
              "      border-color: transparent;\n",
              "      border-left-color: var(--fill-color);\n",
              "      border-top-color: var(--fill-color);\n",
              "      border-right-color: var(--fill-color);\n",
              "    }\n",
              "    40% {\n",
              "      border-color: transparent;\n",
              "      border-right-color: var(--fill-color);\n",
              "      border-top-color: var(--fill-color);\n",
              "    }\n",
              "    60% {\n",
              "      border-color: transparent;\n",
              "      border-right-color: var(--fill-color);\n",
              "    }\n",
              "    80% {\n",
              "      border-color: transparent;\n",
              "      border-right-color: var(--fill-color);\n",
              "      border-bottom-color: var(--fill-color);\n",
              "    }\n",
              "    90% {\n",
              "      border-color: transparent;\n",
              "      border-bottom-color: var(--fill-color);\n",
              "    }\n",
              "  }\n",
              "</style>\n",
              "\n",
              "  <script>\n",
              "    async function quickchart(key) {\n",
              "      const quickchartButtonEl =\n",
              "        document.querySelector('#' + key + ' button');\n",
              "      quickchartButtonEl.disabled = true;  // To prevent multiple clicks.\n",
              "      quickchartButtonEl.classList.add('colab-df-spinner');\n",
              "      try {\n",
              "        const charts = await google.colab.kernel.invokeFunction(\n",
              "            'suggestCharts', [key], {});\n",
              "      } catch (error) {\n",
              "        console.error('Error during call to suggestCharts:', error);\n",
              "      }\n",
              "      quickchartButtonEl.classList.remove('colab-df-spinner');\n",
              "      quickchartButtonEl.classList.add('colab-df-quickchart-complete');\n",
              "    }\n",
              "    (() => {\n",
              "      let quickchartButtonEl =\n",
              "        document.querySelector('#df-6f873657-d88d-4bdf-9d92-2fcfdd6c1dca button');\n",
              "      quickchartButtonEl.style.display =\n",
              "        google.colab.kernel.accessAllowed ? 'block' : 'none';\n",
              "    })();\n",
              "  </script>\n",
              "</div>\n",
              "\n",
              "    </div>\n",
              "  </div>\n"
            ],
            "application/vnd.google.colaboratory.intrinsic+json": {
              "type": "dataframe",
              "variable_name": "df",
              "summary": "{\n  \"name\": \"df\",\n  \"rows\": 20800,\n  \"fields\": [\n    {\n      \"column\": \"id\",\n      \"properties\": {\n        \"dtype\": \"number\",\n        \"std\": 6004,\n        \"min\": 0,\n        \"max\": 20799,\n        \"num_unique_values\": 20800,\n        \"samples\": [\n          14649,\n          9231,\n          6473\n        ],\n        \"semantic_type\": \"\",\n        \"description\": \"\"\n      }\n    },\n    {\n      \"column\": \"title\",\n      \"properties\": {\n        \"dtype\": \"string\",\n        \"num_unique_values\": 19803,\n        \"samples\": [\n          \"Florida Republicans Voting for Hillary Clinton \\u00b7 Guardian Liberty Voice\",\n          \"\\u2018Weekend Warriors\\u2019 Show Survival Benefits - The New York Times\",\n          \"Part 6, Democratic Network Money: Commons Money that Works for Us, Instead of Us Working for It\"\n        ],\n        \"semantic_type\": \"\",\n        \"description\": \"\"\n      }\n    },\n    {\n      \"column\": \"author\",\n      \"properties\": {\n        \"dtype\": \"category\",\n        \"num_unique_values\": 4201,\n        \"samples\": [\n          \"AARGH63\",\n          \"Dave Kehr\",\n          \"Patrick Healy\"\n        ],\n        \"semantic_type\": \"\",\n        \"description\": \"\"\n      }\n    },\n    {\n      \"column\": \"text\",\n      \"properties\": {\n        \"dtype\": \"string\",\n        \"num_unique_values\": 20386,\n        \"samples\": [\n          \"Multan a un ultrasur por lanzar a un jugador del Bar\\u00e7a al campo durante el partido Madrid-Legia EL PARTIDO SE CONSIDERABA DE ALTO RIESGO PARA LOS JUGADORES DEL BARCELONA Real Madrid \\nUn jugador barcelonista golpe\\u00f3 a varios jugadores durante el encuentro de la Champions que tuvo lugar ayer entre el Real Madrid y el Legia Varsovia despu\\u00e9s de ser arrojado desde la grada por un hincha madridista. \\nEl portero del Legia, muy molesto, intent\\u00f3 devolver el jugador a las gradas de una patada y se encar\\u00f3 con los Ultrasur, que ya preparaban a otro jugador para echarlo al campo y entorpecer el encuentro. En esta ocasi\\u00f3n pretend\\u00edan prenderlo con un mechero antes de lanzarlo al c\\u00e9sped. \\nLas autoridades han vuelto a pedir a los aficionados que dejen de lanzar cosas al campo como botellas, monedas y jugadores del Barcelona. El dispositivo de seguridad no puedo hacer nada por evitar que algunos hinchas introdujeran a jugadores barcelonistas a la grada, pues los llevaban camuflados dentro de bocadillos de gran tama\\u00f1o. \\nEl partido pudo ser reanudado cuando el \\u00e1rbitro apart\\u00f3 a un rinc\\u00f3n del c\\u00e9sped al jugador barcelonista.\",\n          \"Written by Jacob G. Hornberger   As US officials continue to accuse Russia of meddling with the US presidential election, an accusation that they have provided no evidence whatsoever to support, let\\u2019s review some of the US government\\u2019s history of meddling with elections in others countries.1. In 1951, the democratically elected parliament of Iran elected a man named Mohammad Mossadegh to be Iran\\u2019s prime minister. Mossadegh angered British Empire officials by nationalizing British oil interests in the country.British officials then turned to the CIA for assistance. In 1953, the CIA secretly fomented a violent coup in Iran, which succeeded in ousting Mossadegh from power and making the Shah of Iran the supreme unelected dictator of the country.To fortify the Shah\\u2019s dictatorial hold on power, the CIA helped organize and train the his domestic police force, the Savak, which was essentially a combination of the CIA, the NSA, and the military. Part of the CIA\\u2019s training involved teaching Savak agents the art of torture.For the next 26 years, the Iranian people suffered under one of the most brutal and tyrannical dictatorships in the world, one that US officials fully supported and called an ally and friend of the United States.In 1979, Iranians successfully revolted against the Shah\\u2019s regime and ousted him from power. One result was not a restoration of the democratic system that had elected Mossadegh but rather another brutal dictatorship, this time a religious one. Another result is the bad relations between the Iran and US governments that continues to exist today.2. In 1951, the Guatemalan people democratically elected a man named Jacobo Arbenz to be their president. Arbenz, however, was not satisfactory to US officials, especially the national-security branch of the government, specifically the Pentagon and the CIA. The reason that US officials opposed Arbenz was that he was a socialist, and US officials considered a socialist president of Guatemala to be a threat to \\u201cnational security\\u201d here in the United States.In 1954 \\u2014 one year after the coup in Iran, the CIA fomented a violent military coup that succeeded in removing Arbenz from power and replacing him with one of the most brutal unelected military dictators in Latin American history, a man named Carlos Castillo Armas. The CIA had a kill list prepared for the coup, which Arbenz was able to escape by fleeing the country before Castillo was able to get him. The CIA\\u2019s destruction of Guatemala\\u2019s democratic system threw the nation into a 30-year civil war that ended up killing millions of Guatemalan people, especially many of the poor.3. In 1960 a man named Patrice Lamumba was elected Congo\\u2019s first prime minister after independence from Belgium. Lamumba spoke out against Western imperialism and refused to take sides in the Cold War, which caused the CIA to conclude that he was a threat to \\u201cnational security.\\u201d The CIA orchestrated the assassination of Lamumba, which ended up taking place on January 17, 1961, just three days before President Kennedy, who liked Lamumba and who would have ordered the CIA to stand down, was to be sworn into office.4. In 1970 a man named Salvador Allende received a plurality of votes in the presidential election in Chile. Pursuant to the Chilean constitution, the election was thrown into the national congress. President Richard Nixon, his national-security team, the Pentagon, and the CIA concluded that because Allende believed in communism and socialism, he posed a grave threat to \\u201cnational security\\u201d here in the United States. The CIA attempted to bribe members of the congress to vote against Allende. It also orchestrated the kidnapping of the head of Chile\\u2019s armed forces, Gen Rene Schneider, who opposed a US military coup in his country, especially since a coup would violate the country\\u2019s constitution. The kidnapping attempt on Schneider left him dead.The CIA then fomented a coup that took place on 9/11 1973 that violently ousted Allende from power and left him dead. Replacing him was army Gen. Augusto Pinochet, one of the most brutal unelected military dictators in history. By the time Pinochet\\u2019s 17-year reign of military terror came to an end in 1990, he and his CIA-supported goons had incarcerated, raped, tortured, or killed tens of thousands of innocent people \\u2014 that is, people whose only \\u201ccrime\\u201d was believing in socialism \\u2014 with the full support of the CIA, Pentagon, Nixon, and his \\u201cnational security\\u201d team.Of course, there are also the more recent support of regime-change operations that ousted democratically elected presidents that the US government disapproved of, such as in Ukraine and Egypt.And then there is the long list of countries where unelected dictators were targeted for regime change by the US national security state and, where successful, replaced with a brutal unelected pro-US dictator. Cuba, Indonesia, Iraq, Libya, and Syria all come to mind.US officials need to keep in mind that when they point their accusatory index finger at Russia for supposedly meddling in the US presidential election, US officials have, at the same time, three fingers pointing back at themselves. Reprinted with permission from the Future of Freedom Foundation . Related\",\n          \"When hearing of an establishment called the Black and Blue Steakhouse, one could reasonably surmise that some, or at the very least one, extremely tough person could be found somewhere in there. Well, the three terrorists who attacked London Bridge over the weekend found the Black and Blue Steakhouse, and they found the toughest man in the house. [Or, maybe more to the point, he found them.  Roy Larner, 47, is a huge fan of the South East London soccer team Millwall F. C. The team is known as the Lions, and when   terrorists entered the Black and Blue to kill innocent people, Larner let them know who is the true king of the jungle. After the terrorists entered, with obvious bad intentions, Larner sprang into action: \\u201cLike an idiot I shouted back at them. I thought, \\u2018I need to take the p*** out of these b*****s.\\u2019 \\u201cI took a few steps towards them and said, \\u2018F*** you, I\\u2019m Millwall.\\u2019 So they started attacking me. \\u201cI stood in front of them trying to fight them off. Everyone else ran to the back. I was on my own against all three of them, that\\u2019s why I got hurt so much. It was just me, trying to grab them with my bare hands and hold on. I was swinging. \\u201cI got stabbed and sliced eight times. They got me in my head, chest and both hands. There was blood everywhere. \\u201cThey were saying, \\u2018Islam, Islam!\\u2019 I said again, \\u2018F*** you, I\\u2019m Millwall!\\u2019 \\u201cIt was the worst thing I could have done as they carried on attacking me. \\u201cLuckily, none of the blows were straight at me or I\\u2019d be dead. \\u201d A petition has begun, with the aim of awarding Larner with the George Cross for bravery. The award is the second highest commendation granted by Great Britain. Looking at his scars, it\\u2019s really hard to imagine that he won\\u2019t get it. If Millwall is looking for a new slogan, they may have found it. \\u201cF*** you, I\\u2019m Millwall!\\u201d has a nice ring to it. Follow Dylan Gwinn on Twitter: @themightygwinn\"\n        ],\n        \"semantic_type\": \"\",\n        \"description\": \"\"\n      }\n    },\n    {\n      \"column\": \"label\",\n      \"properties\": {\n        \"dtype\": \"number\",\n        \"std\": 0,\n        \"min\": 0,\n        \"max\": 1,\n        \"num_unique_values\": 2,\n        \"samples\": [\n          0,\n          1\n        ],\n        \"semantic_type\": \"\",\n        \"description\": \"\"\n      }\n    }\n  ]\n}"
            }
          },
          "metadata": {},
          "execution_count": 4
        }
      ]
    },
    {
      "cell_type": "code",
      "source": [
        "df = df.dropna()"
      ],
      "metadata": {
        "id": "jxMpEls8mtR6"
      },
      "execution_count": 5,
      "outputs": []
    },
    {
      "cell_type": "code",
      "source": [
        "X = df.drop('label',axis=1)\n",
        "X.head()"
      ],
      "metadata": {
        "colab": {
          "base_uri": "https://localhost:8080/",
          "height": 226
        },
        "id": "QYfgtWe0njJK",
        "outputId": "919175eb-dac6-4c82-db69-7dc4caada1cd"
      },
      "execution_count": 6,
      "outputs": [
        {
          "output_type": "execute_result",
          "data": {
            "text/plain": [
              "   id                                              title              author  \\\n",
              "0   0  House Dem Aide: We Didn’t Even See Comey’s Let...       Darrell Lucus   \n",
              "1   1  FLYNN: Hillary Clinton, Big Woman on Campus - ...     Daniel J. Flynn   \n",
              "2   2                  Why the Truth Might Get You Fired  Consortiumnews.com   \n",
              "3   3  15 Civilians Killed In Single US Airstrike Hav...     Jessica Purkiss   \n",
              "4   4  Iranian woman jailed for fictional unpublished...      Howard Portnoy   \n",
              "\n",
              "                                                text  \n",
              "0  House Dem Aide: We Didn’t Even See Comey’s Let...  \n",
              "1  Ever get the feeling your life circles the rou...  \n",
              "2  Why the Truth Might Get You Fired October 29, ...  \n",
              "3  Videos 15 Civilians Killed In Single US Airstr...  \n",
              "4  Print \\nAn Iranian woman has been sentenced to...  "
            ],
            "text/html": [
              "\n",
              "  <div id=\"df-404daa17-9c4b-44d4-8475-f94cc4540e3e\" class=\"colab-df-container\">\n",
              "    <div>\n",
              "<style scoped>\n",
              "    .dataframe tbody tr th:only-of-type {\n",
              "        vertical-align: middle;\n",
              "    }\n",
              "\n",
              "    .dataframe tbody tr th {\n",
              "        vertical-align: top;\n",
              "    }\n",
              "\n",
              "    .dataframe thead th {\n",
              "        text-align: right;\n",
              "    }\n",
              "</style>\n",
              "<table border=\"1\" class=\"dataframe\">\n",
              "  <thead>\n",
              "    <tr style=\"text-align: right;\">\n",
              "      <th></th>\n",
              "      <th>id</th>\n",
              "      <th>title</th>\n",
              "      <th>author</th>\n",
              "      <th>text</th>\n",
              "    </tr>\n",
              "  </thead>\n",
              "  <tbody>\n",
              "    <tr>\n",
              "      <th>0</th>\n",
              "      <td>0</td>\n",
              "      <td>House Dem Aide: We Didn’t Even See Comey’s Let...</td>\n",
              "      <td>Darrell Lucus</td>\n",
              "      <td>House Dem Aide: We Didn’t Even See Comey’s Let...</td>\n",
              "    </tr>\n",
              "    <tr>\n",
              "      <th>1</th>\n",
              "      <td>1</td>\n",
              "      <td>FLYNN: Hillary Clinton, Big Woman on Campus - ...</td>\n",
              "      <td>Daniel J. Flynn</td>\n",
              "      <td>Ever get the feeling your life circles the rou...</td>\n",
              "    </tr>\n",
              "    <tr>\n",
              "      <th>2</th>\n",
              "      <td>2</td>\n",
              "      <td>Why the Truth Might Get You Fired</td>\n",
              "      <td>Consortiumnews.com</td>\n",
              "      <td>Why the Truth Might Get You Fired October 29, ...</td>\n",
              "    </tr>\n",
              "    <tr>\n",
              "      <th>3</th>\n",
              "      <td>3</td>\n",
              "      <td>15 Civilians Killed In Single US Airstrike Hav...</td>\n",
              "      <td>Jessica Purkiss</td>\n",
              "      <td>Videos 15 Civilians Killed In Single US Airstr...</td>\n",
              "    </tr>\n",
              "    <tr>\n",
              "      <th>4</th>\n",
              "      <td>4</td>\n",
              "      <td>Iranian woman jailed for fictional unpublished...</td>\n",
              "      <td>Howard Portnoy</td>\n",
              "      <td>Print \\nAn Iranian woman has been sentenced to...</td>\n",
              "    </tr>\n",
              "  </tbody>\n",
              "</table>\n",
              "</div>\n",
              "    <div class=\"colab-df-buttons\">\n",
              "\n",
              "  <div class=\"colab-df-container\">\n",
              "    <button class=\"colab-df-convert\" onclick=\"convertToInteractive('df-404daa17-9c4b-44d4-8475-f94cc4540e3e')\"\n",
              "            title=\"Convert this dataframe to an interactive table.\"\n",
              "            style=\"display:none;\">\n",
              "\n",
              "  <svg xmlns=\"http://www.w3.org/2000/svg\" height=\"24px\" viewBox=\"0 -960 960 960\">\n",
              "    <path d=\"M120-120v-720h720v720H120Zm60-500h600v-160H180v160Zm220 220h160v-160H400v160Zm0 220h160v-160H400v160ZM180-400h160v-160H180v160Zm440 0h160v-160H620v160ZM180-180h160v-160H180v160Zm440 0h160v-160H620v160Z\"/>\n",
              "  </svg>\n",
              "    </button>\n",
              "\n",
              "  <style>\n",
              "    .colab-df-container {\n",
              "      display:flex;\n",
              "      gap: 12px;\n",
              "    }\n",
              "\n",
              "    .colab-df-convert {\n",
              "      background-color: #E8F0FE;\n",
              "      border: none;\n",
              "      border-radius: 50%;\n",
              "      cursor: pointer;\n",
              "      display: none;\n",
              "      fill: #1967D2;\n",
              "      height: 32px;\n",
              "      padding: 0 0 0 0;\n",
              "      width: 32px;\n",
              "    }\n",
              "\n",
              "    .colab-df-convert:hover {\n",
              "      background-color: #E2EBFA;\n",
              "      box-shadow: 0px 1px 2px rgba(60, 64, 67, 0.3), 0px 1px 3px 1px rgba(60, 64, 67, 0.15);\n",
              "      fill: #174EA6;\n",
              "    }\n",
              "\n",
              "    .colab-df-buttons div {\n",
              "      margin-bottom: 4px;\n",
              "    }\n",
              "\n",
              "    [theme=dark] .colab-df-convert {\n",
              "      background-color: #3B4455;\n",
              "      fill: #D2E3FC;\n",
              "    }\n",
              "\n",
              "    [theme=dark] .colab-df-convert:hover {\n",
              "      background-color: #434B5C;\n",
              "      box-shadow: 0px 1px 3px 1px rgba(0, 0, 0, 0.15);\n",
              "      filter: drop-shadow(0px 1px 2px rgba(0, 0, 0, 0.3));\n",
              "      fill: #FFFFFF;\n",
              "    }\n",
              "  </style>\n",
              "\n",
              "    <script>\n",
              "      const buttonEl =\n",
              "        document.querySelector('#df-404daa17-9c4b-44d4-8475-f94cc4540e3e button.colab-df-convert');\n",
              "      buttonEl.style.display =\n",
              "        google.colab.kernel.accessAllowed ? 'block' : 'none';\n",
              "\n",
              "      async function convertToInteractive(key) {\n",
              "        const element = document.querySelector('#df-404daa17-9c4b-44d4-8475-f94cc4540e3e');\n",
              "        const dataTable =\n",
              "          await google.colab.kernel.invokeFunction('convertToInteractive',\n",
              "                                                    [key], {});\n",
              "        if (!dataTable) return;\n",
              "\n",
              "        const docLinkHtml = 'Like what you see? Visit the ' +\n",
              "          '<a target=\"_blank\" href=https://colab.research.google.com/notebooks/data_table.ipynb>data table notebook</a>'\n",
              "          + ' to learn more about interactive tables.';\n",
              "        element.innerHTML = '';\n",
              "        dataTable['output_type'] = 'display_data';\n",
              "        await google.colab.output.renderOutput(dataTable, element);\n",
              "        const docLink = document.createElement('div');\n",
              "        docLink.innerHTML = docLinkHtml;\n",
              "        element.appendChild(docLink);\n",
              "      }\n",
              "    </script>\n",
              "  </div>\n",
              "\n",
              "\n",
              "<div id=\"df-f798ba15-f75c-4435-a315-4fdc7f92ab96\">\n",
              "  <button class=\"colab-df-quickchart\" onclick=\"quickchart('df-f798ba15-f75c-4435-a315-4fdc7f92ab96')\"\n",
              "            title=\"Suggest charts\"\n",
              "            style=\"display:none;\">\n",
              "\n",
              "<svg xmlns=\"http://www.w3.org/2000/svg\" height=\"24px\"viewBox=\"0 0 24 24\"\n",
              "     width=\"24px\">\n",
              "    <g>\n",
              "        <path d=\"M19 3H5c-1.1 0-2 .9-2 2v14c0 1.1.9 2 2 2h14c1.1 0 2-.9 2-2V5c0-1.1-.9-2-2-2zM9 17H7v-7h2v7zm4 0h-2V7h2v10zm4 0h-2v-4h2v4z\"/>\n",
              "    </g>\n",
              "</svg>\n",
              "  </button>\n",
              "\n",
              "<style>\n",
              "  .colab-df-quickchart {\n",
              "      --bg-color: #E8F0FE;\n",
              "      --fill-color: #1967D2;\n",
              "      --hover-bg-color: #E2EBFA;\n",
              "      --hover-fill-color: #174EA6;\n",
              "      --disabled-fill-color: #AAA;\n",
              "      --disabled-bg-color: #DDD;\n",
              "  }\n",
              "\n",
              "  [theme=dark] .colab-df-quickchart {\n",
              "      --bg-color: #3B4455;\n",
              "      --fill-color: #D2E3FC;\n",
              "      --hover-bg-color: #434B5C;\n",
              "      --hover-fill-color: #FFFFFF;\n",
              "      --disabled-bg-color: #3B4455;\n",
              "      --disabled-fill-color: #666;\n",
              "  }\n",
              "\n",
              "  .colab-df-quickchart {\n",
              "    background-color: var(--bg-color);\n",
              "    border: none;\n",
              "    border-radius: 50%;\n",
              "    cursor: pointer;\n",
              "    display: none;\n",
              "    fill: var(--fill-color);\n",
              "    height: 32px;\n",
              "    padding: 0;\n",
              "    width: 32px;\n",
              "  }\n",
              "\n",
              "  .colab-df-quickchart:hover {\n",
              "    background-color: var(--hover-bg-color);\n",
              "    box-shadow: 0 1px 2px rgba(60, 64, 67, 0.3), 0 1px 3px 1px rgba(60, 64, 67, 0.15);\n",
              "    fill: var(--button-hover-fill-color);\n",
              "  }\n",
              "\n",
              "  .colab-df-quickchart-complete:disabled,\n",
              "  .colab-df-quickchart-complete:disabled:hover {\n",
              "    background-color: var(--disabled-bg-color);\n",
              "    fill: var(--disabled-fill-color);\n",
              "    box-shadow: none;\n",
              "  }\n",
              "\n",
              "  .colab-df-spinner {\n",
              "    border: 2px solid var(--fill-color);\n",
              "    border-color: transparent;\n",
              "    border-bottom-color: var(--fill-color);\n",
              "    animation:\n",
              "      spin 1s steps(1) infinite;\n",
              "  }\n",
              "\n",
              "  @keyframes spin {\n",
              "    0% {\n",
              "      border-color: transparent;\n",
              "      border-bottom-color: var(--fill-color);\n",
              "      border-left-color: var(--fill-color);\n",
              "    }\n",
              "    20% {\n",
              "      border-color: transparent;\n",
              "      border-left-color: var(--fill-color);\n",
              "      border-top-color: var(--fill-color);\n",
              "    }\n",
              "    30% {\n",
              "      border-color: transparent;\n",
              "      border-left-color: var(--fill-color);\n",
              "      border-top-color: var(--fill-color);\n",
              "      border-right-color: var(--fill-color);\n",
              "    }\n",
              "    40% {\n",
              "      border-color: transparent;\n",
              "      border-right-color: var(--fill-color);\n",
              "      border-top-color: var(--fill-color);\n",
              "    }\n",
              "    60% {\n",
              "      border-color: transparent;\n",
              "      border-right-color: var(--fill-color);\n",
              "    }\n",
              "    80% {\n",
              "      border-color: transparent;\n",
              "      border-right-color: var(--fill-color);\n",
              "      border-bottom-color: var(--fill-color);\n",
              "    }\n",
              "    90% {\n",
              "      border-color: transparent;\n",
              "      border-bottom-color: var(--fill-color);\n",
              "    }\n",
              "  }\n",
              "</style>\n",
              "\n",
              "  <script>\n",
              "    async function quickchart(key) {\n",
              "      const quickchartButtonEl =\n",
              "        document.querySelector('#' + key + ' button');\n",
              "      quickchartButtonEl.disabled = true;  // To prevent multiple clicks.\n",
              "      quickchartButtonEl.classList.add('colab-df-spinner');\n",
              "      try {\n",
              "        const charts = await google.colab.kernel.invokeFunction(\n",
              "            'suggestCharts', [key], {});\n",
              "      } catch (error) {\n",
              "        console.error('Error during call to suggestCharts:', error);\n",
              "      }\n",
              "      quickchartButtonEl.classList.remove('colab-df-spinner');\n",
              "      quickchartButtonEl.classList.add('colab-df-quickchart-complete');\n",
              "    }\n",
              "    (() => {\n",
              "      let quickchartButtonEl =\n",
              "        document.querySelector('#df-f798ba15-f75c-4435-a315-4fdc7f92ab96 button');\n",
              "      quickchartButtonEl.style.display =\n",
              "        google.colab.kernel.accessAllowed ? 'block' : 'none';\n",
              "    })();\n",
              "  </script>\n",
              "</div>\n",
              "\n",
              "    </div>\n",
              "  </div>\n"
            ],
            "application/vnd.google.colaboratory.intrinsic+json": {
              "type": "dataframe",
              "variable_name": "X",
              "summary": "{\n  \"name\": \"X\",\n  \"rows\": 18285,\n  \"fields\": [\n    {\n      \"column\": \"id\",\n      \"properties\": {\n        \"dtype\": \"number\",\n        \"std\": 5998,\n        \"min\": 0,\n        \"max\": 20799,\n        \"num_unique_values\": 18285,\n        \"samples\": [\n          11784,\n          6997,\n          14903\n        ],\n        \"semantic_type\": \"\",\n        \"description\": \"\"\n      }\n    },\n    {\n      \"column\": \"title\",\n      \"properties\": {\n        \"dtype\": \"string\",\n        \"num_unique_values\": 17931,\n        \"samples\": [\n          \"Open Borders Lobby Blasts Sheriff\\u2019s Deportation Deal\",\n          \"Obama's Victory Lap?\",\n          \"Fighting in Aleppo Leaves 2 Million Without Water, U.N. Says - The New York Times\"\n        ],\n        \"semantic_type\": \"\",\n        \"description\": \"\"\n      }\n    },\n    {\n      \"column\": \"author\",\n      \"properties\": {\n        \"dtype\": \"category\",\n        \"num_unique_values\": 3838,\n        \"samples\": [\n          \"Ellen Brodsky\",\n          \"Helene Cooper and David E. Sanger\",\n          \"Richard Fausset, Alan Blinder and John Eligon\"\n        ],\n        \"semantic_type\": \"\",\n        \"description\": \"\"\n      }\n    },\n    {\n      \"column\": \"text\",\n      \"properties\": {\n        \"dtype\": \"string\",\n        \"num_unique_values\": 18017,\n        \"samples\": [\n          \"We Are Change \\nA plane carrying U.S. Vice Presidential candidate Mike Pence and his campaign crew has slid off the runway in New York\\u2019s LaGuardia Airport approximately 5 p.m. eastern today according to WPIX-TV .\\n\\nThere were 37 people on the plane, including Pence. No injuries have been declared or deaths at the time of this writing.\\nThe flight was initially delayted because of unknown problems at LaGuardia, giving Pence time to toss the football around while stranded on the tarmac in Iowa, and tweet this photo reported Fox6. \\n(THIS IS A BREAKING, DEVELOPING STORY AND UPDATES WILL BE ADDED AS MORE INFORMATION BECOMES AVAILABLE.)\\nThe post BREAKING: Plane Carrying U.S. VP Candidate MIKE PENCE Slides Off The Runway appeared first on We Are Change .\\n\",\n          \"The Drought That Was Prophesied To Hit The Southern United States Is Now Here   15th, 2016 \\nA record-setting drought has gripped the southern United States, but most people have no idea that this drought is the fulfillment of a prophecy that was given four years ago. Back in 2008, John Paul Jackson released a DVD entitled \\u201c The Perfect Storm \\u201d in which he detailed many of the prophetic events that God showed him would soon come to America. In 2012, he released a video update to \\u201cThe Perfect Storm\\u201d that you can view on YouTube right here . In that update, he shared a list of future headlines that God had revealed to him over the years. Some of these headlines have already happened since that time, and now we are watching another be fulfilled right in front of our eyes. \\nSpecifically, I am referring to this headline: \\u201cRecord High Temps Accompany Record Drought Swept South\\u201d . \\nIn an article entitled \\u201c July\\u2019s Extreme Heat Breaks Records Across South \\u201c, weather.com detailed many of the high temperature records that have been broken in the South in recent months, but in this article I am going to focus on the crippling drought that is plaguing the region. \\nIn addition to the headline above, John Paul Jackson was shown several other headlines regarding drought and famine coming to America\\u2026 \\n\\u201cDrought Continues to Cause Prayer to Rise\\u201d \\n\\u201cDemand for Classic Seeds Skyrockets\\u201d \\n\\u201cFood Prices Lead Nation\\u2019s Escalating Inflation Woes\\u201d \\n\\u201cSysco and Kraft Consider Guards on Delivery Trucks as Food Nears 40% of the Family Budget\\u201d \\nAnd of course John Paul Jackson is not the only one that has been shown that these things are coming to this nation. \\nThe following is a very small portion of what Terry Bennett was shown in April 2011 \\u2026 \\nI was also warned, by the appearing of the black horse and its rider, about famine. The angel said, \\u201cThere will be a famine of food in your nation!\\u201d Not only this, but also the prices of food, particularly grains, will dramatically rise. We will see not only shortages and high prices, but I was shown significant starvation occurring during this time. Death followed this black horse! \\nDr. Patricia Green correctly prophesied the election victories of Barack Obama and Donald Trump in advance, and she was also shown that famine is going to hit America \\u2026 \\n\\u201cI\\u2019m instructing my children to begin to fill up their storehouses before the famine strikes just as I instructed Joseph while he was in Egypt.\\u201d \\nWith those prophecies in mind, it is extremely alarming to see what is happening all across the southern portion of the United States right now. According to the U.S. Drought Monitor , most of the southern half of the country is experiencing some level of drought at this moment\\u2026 \\nThe drought in California has been raging for quite some time, but what has surprised the experts is how dry it has been in the Southeast lately. The following is from an EcoWatch article entitled \\u201c Record-Breaking Drought and Wildfires Plague Southeast \\u201c\\u2026 \\nThe atmospheric spigots have been turned off across most of the U.S. over the last several weeks. According to the weekly U.S. Drought Monitor report from Nov. 10, more than 27 percent of the contiguous U.S. has been enveloped by at least moderate drought (categories D1 through D4). This is the largest percentage value in more than a year, since late October 2015 . \\nThe upward trend of the last month is worrisome given the outlook for the coming winter: Drier-than-average conditions are projected by the National Oceanic and Atmospheric Administration across the southern half of the contiguous U.S., a frequent outcome during La Ni\\u00f1a winters. \\nTo say that the drought in the Southeast is severe would be a tremendous understatement. At this point, some cities in the Southeast haven\\u2019t seen any measurable rain in about 50 days \\u2026 \\nNo measurable rain (at least .01 inches) has been tallied at Birmingham\\u2019s Shuttlesworth International Airport since Sept. 18, approaching a two-month-long dry streak, topping their previous longest dry streak on record \\u2013 52 straight days \\u2013 from fall 1924. \\nNine minutes of sprinkles Nov. 4 and another bout of sprinkles on Oct. 16 has been the entirety of Birmingham\\u2019s rainfall so far this fall. \\nAnniston, Alabama, and Rome, Georgia, have dry streaks now approaching 50 days. \\nAnd unfortunately, it appears that there is not going to be any substantial rain for the region any time soon \\u2026 \\nThere are no signs of any significant rainfall through the end of the month across the Southeast, AccuWeather Senior Meteorologist Henry Margusity said. \\nThe region needs days and weeks of a steady, soaking rain to completely eliminate the drought. \\n\\u201cThings will only get worse before they get better,\\u201d Margusity explained. \\nWhenever conditions are this dry, it is inevitable that there will be wildfires. \\nRight now more than 100 major wildfires are raging across the Southeast, and some of the worst are in the mountains of North Carolina. \\nAs you read this article, more than 1,000 firefighters are battling dozens of large wildfires in the North Carolina mountains. Governor Pat McCrory is referring to these fires as \\u201c California wildfires in North Carolina \\u201c, and he is not exaggerating one bit. \\nIf what we are witnessing is truly the beginning of the fulfillment of what God showed John Paul Jackson, Terry Bennett and Patricia Green, then we should expect drought conditions to continue to intensify in the months ahead. \\nAnd as you can see above, they are saying that things will eventually get so bad that famine will strike America. \\nMost of us couldn\\u2019t imagine something like that ever happening in this nation. But these are men and women of God with very long track records. As I noted above, Dr. Patricia Green correctly prophesied the election victories by Barack Obama and Donald Trump in advance, and John Paul Jackson has a track record of correctly fulfilled prophecies that is exceedingly long. \\nAs I end this article, I also want to remind everyone of what God showed Heidi Baker regarding the future of America not too long ago \\u2026 \\nI saw bread lines, soup kitchens, and I saw people wearing beautiful clothing. Their clothing was not worn out. Now in my nation when people are hungry you can tell. I mean they are in shredded rags. They don\\u2019t have shoes or they have flip flops. Most of them [have] no shoes. They are hungry and they know they are hungry. They come for food, not because they are beggars, but because they are hungry. \\nThese days a lot of Americans have become complacent and are feeling pretty good about things. \\nBut the events that are warned about in this article are coming, and I would encourage everyone to get prepared while they still can.\",\n          \"Two migrants have been given sentences of three and     years for beating a young man almost to death before violently raping his female friend. The government will try to deport only one of them, temporarily. [The Freie Zeiten reports that three teenage girls and one male friend met for a party at an apartment in Kista, near Stockholm, citing Solna District Court documents.  One of the girls invited a    migrant from Liberia, Richelieu Jarara, with whom she was acquainted. This man brought another African migrant, a Kenyan named Fayed Mwangi, with him. Before long, the migrants began sexually harassing the girls. Matters quickly escalated from there, with the pair conferring briefly before spraying their friend in the face with pepper spray. The Freie Zeiten describes how they then beat and kicked the man with \\u201cbrutal force\\u201d  leaving him with \\u201cmultiple cerebral haemorrhages, severe swelling and bruises all over his body, as well as bone fractures and open wounds\\u201d. The three girls, as well as the attackers, thought the young man had been beaten to death, with Jarara actually uploading a video to Snapchat in which he made light of having \\u201ckilled a guy\\u201d. He was, in fact, still alive, but unconscious and permanently brain damaged. Jarara\\u2019s younger companion,    Mwangi, is said to have \\u201cstrangled\\u201d one of the girls when she tried to intervene, slamming her into a wall and \\u201churling\\u201d her to the floor. The Kenyan then grabbed another of the girls by the hair, dragged her into the bedroom and raped her. She was also strangled, with the Kenyan threatening to strike her if she screamed. The ordeal was finally brought to an end when a neighbour burst into the apartment, allowing the girls to flee. According to the Fria Tider, the court sentenced Mwangi to just     years for his crimes, despite his having raped another woman in May 2016. The government will attempt to deport him afterwards  \\u2014   although he will be allowed to return to the country after ten years, and judges have prevented other European countries, such as the United Kingdom, from following through on deporting criminal migrants after their sentences in the past. Jarara, who has a string of previous convictions for crimes including theft, serious bodily injury, and resisting arrest, was given a slightly longer sentence  \\u2014   three years  \\u2014   but he will not be deported.\"\n        ],\n        \"semantic_type\": \"\",\n        \"description\": \"\"\n      }\n    }\n  ]\n}"
            }
          },
          "metadata": {},
          "execution_count": 6
        }
      ]
    },
    {
      "cell_type": "code",
      "source": [
        "y = df['label']\n",
        "y.head()"
      ],
      "metadata": {
        "colab": {
          "base_uri": "https://localhost:8080/"
        },
        "id": "otNP89lEm_FX",
        "outputId": "faa13de6-5e7c-405a-e55f-f79ddf28d751"
      },
      "execution_count": 7,
      "outputs": [
        {
          "output_type": "execute_result",
          "data": {
            "text/plain": [
              "0    1\n",
              "1    0\n",
              "2    1\n",
              "3    1\n",
              "4    1\n",
              "Name: label, dtype: int64"
            ]
          },
          "metadata": {},
          "execution_count": 7
        }
      ]
    },
    {
      "cell_type": "code",
      "source": [
        "X.shape"
      ],
      "metadata": {
        "colab": {
          "base_uri": "https://localhost:8080/"
        },
        "id": "aGj_XVVYnCh3",
        "outputId": "98360581-7653-4ac9-e297-6f3ca1cacce0"
      },
      "execution_count": 8,
      "outputs": [
        {
          "output_type": "execute_result",
          "data": {
            "text/plain": [
              "(18285, 4)"
            ]
          },
          "metadata": {},
          "execution_count": 8
        }
      ]
    },
    {
      "cell_type": "code",
      "source": [
        "y.shape"
      ],
      "metadata": {
        "colab": {
          "base_uri": "https://localhost:8080/"
        },
        "id": "IjHsuHLknF2G",
        "outputId": "cb50638a-596c-4d11-9a7f-c56bd683395d"
      },
      "execution_count": 9,
      "outputs": [
        {
          "output_type": "execute_result",
          "data": {
            "text/plain": [
              "(18285,)"
            ]
          },
          "metadata": {},
          "execution_count": 9
        }
      ]
    },
    {
      "cell_type": "code",
      "source": [
        "import tensorflow"
      ],
      "metadata": {
        "id": "5cQTa-zUnPy8"
      },
      "execution_count": 10,
      "outputs": []
    },
    {
      "cell_type": "code",
      "source": [
        "from tensorflow.keras.models import Sequential\n",
        "from tensorflow.keras.layers import Dense\n",
        "from tensorflow.keras.layers import Embedding\n",
        "from tensorflow.keras.layers import LSTM\n",
        "from tensorflow.keras.preprocessing.sequence import pad_sequences\n",
        "from tensorflow.keras.preprocessing.text import one_hot"
      ],
      "metadata": {
        "id": "8ou8KMqOnWve"
      },
      "execution_count": 11,
      "outputs": []
    },
    {
      "cell_type": "code",
      "source": [
        "messages = X.copy()"
      ],
      "metadata": {
        "id": "QSJ9UOKLomTp"
      },
      "execution_count": 12,
      "outputs": []
    },
    {
      "cell_type": "code",
      "source": [
        "messages.reset_index(inplace = True)"
      ],
      "metadata": {
        "id": "UsGxnat5oxo7"
      },
      "execution_count": 13,
      "outputs": []
    },
    {
      "cell_type": "code",
      "source": [
        "import nltk\n",
        "import re\n",
        "from nltk.corpus import stopwords"
      ],
      "metadata": {
        "id": "eg8ph8OIo1n8"
      },
      "execution_count": 14,
      "outputs": []
    },
    {
      "cell_type": "code",
      "source": [
        "nltk.download('stopwords')"
      ],
      "metadata": {
        "colab": {
          "base_uri": "https://localhost:8080/"
        },
        "id": "rQatGepAo5xa",
        "outputId": "c0e9478f-9000-42e6-e870-eab974dc51a9"
      },
      "execution_count": 15,
      "outputs": [
        {
          "output_type": "stream",
          "name": "stderr",
          "text": [
            "[nltk_data] Downloading package stopwords to /root/nltk_data...\n",
            "[nltk_data]   Unzipping corpora/stopwords.zip.\n"
          ]
        },
        {
          "output_type": "execute_result",
          "data": {
            "text/plain": [
              "True"
            ]
          },
          "metadata": {},
          "execution_count": 15
        }
      ]
    },
    {
      "cell_type": "code",
      "source": [
        "nltk.download('wordnet')"
      ],
      "metadata": {
        "colab": {
          "base_uri": "https://localhost:8080/"
        },
        "id": "qrQV0h4Bpm54",
        "outputId": "ba69b122-7b5a-44e7-b486-19b8f7f6986b"
      },
      "execution_count": 16,
      "outputs": [
        {
          "output_type": "stream",
          "name": "stderr",
          "text": [
            "[nltk_data] Downloading package wordnet to /root/nltk_data...\n"
          ]
        },
        {
          "output_type": "execute_result",
          "data": {
            "text/plain": [
              "True"
            ]
          },
          "metadata": {},
          "execution_count": 16
        }
      ]
    },
    {
      "cell_type": "code",
      "source": [
        "from nltk import WordNetLemmatizer\n",
        "wnl = WordNetLemmatizer()\n",
        "corpus = []\n",
        "for i in range(len(messages)):\n",
        "  review = re.sub('[^a-zA-Z]',' ',messages['text'][i])\n",
        "  review = review.lower()\n",
        "  review = review.split()\n",
        "  review = [wnl.lemmatize(word) for word in review if not word in stopwords.words('english')]\n",
        "  review = ' '.join(review)\n",
        "  corpus.append(review)"
      ],
      "metadata": {
        "id": "AVDPXU_no-Za"
      },
      "execution_count": 21,
      "outputs": []
    },
    {
      "cell_type": "code",
      "source": [
        "# @title Default title text\n",
        "import tensorflow as tf\n",
        "device_name = tf.test.gpu_device_name()\n"
      ],
      "metadata": {
        "id": "XsZkTRy3prV3"
      },
      "execution_count": 22,
      "outputs": []
    },
    {
      "cell_type": "code",
      "source": [
        "device_name"
      ],
      "metadata": {
        "colab": {
          "base_uri": "https://localhost:8080/",
          "height": 55
        },
        "id": "Cnrw0zM8pG9r",
        "outputId": "25fd0571-98a1-478d-cb4d-66fb7b0d61e8"
      },
      "execution_count": 23,
      "outputs": [
        {
          "output_type": "execute_result",
          "data": {
            "text/plain": [
              "'/device:GPU:0'"
            ],
            "application/vnd.google.colaboratory.intrinsic+json": {
              "type": "string"
            }
          },
          "metadata": {},
          "execution_count": 23
        }
      ]
    },
    {
      "cell_type": "code",
      "source": [
        "corpus[0]"
      ],
      "metadata": {
        "colab": {
          "base_uri": "https://localhost:8080/",
          "height": 142
        },
        "id": "rOvttqwTv5OP",
        "outputId": "69a70c20-cfba-46fb-9568-b3a9544ee199"
      },
      "execution_count": 27,
      "outputs": [
        {
          "output_type": "execute_result",
          "data": {
            "text/plain": [
              "'house dem aide even see comey letter jason chaffetz tweeted darrell lucus october subscribe jason chaffetz stump american fork utah image courtesy michael jolley available creative common license apology keith olbermann doubt worst person world week fbi director james comey according house democratic aide look like also know second worst person well turn comey sent infamous letter announcing fbi looking email may related hillary clinton email server ranking democrat relevant committee hear comey found via tweet one republican committee chairman know comey notified republican chairman democratic ranking member house intelligence judiciary oversight committee agency reviewing email recently discovered order see contained classified information long letter went oversight committee chairman jason chaffetz set political world ablaze tweet fbi dir informed fbi learned existence email appear pertinent investigation case reopened jason chaffetz jasoninthehouse october course know case comey actually saying reviewing email light unrelated case know anthony weiner sexting teenager apparently little thing fact matter chaffetz utah republican already vowed initiate raft investigation hillary win least two year worth possibly entire term worth apparently chaffetz thought fbi already work resulting tweet briefly roiled nation cooler head realized dud according senior house democratic aide misreading letter may least chaffetz sin aide told shareblue bos democrat even know comey letter time found checked twitter democratic ranking member relevant committee receive comey letter republican chairman fact democratic ranking member receive chairman oversight government reform committee jason chaffetz tweeted made public let see got right fbi director tell chaffetz gop committee chairman major development potentially politically explosive investigation neither chaffetz colleague courtesy let democratic counterpart know instead according aide made find twitter already talk daily ko comey provided advance notice letter chaffetz republican giving time turn spin machine may make good theater nothing far even suggests case nothing far suggests comey anything grossly incompetent tone deaf suggest however chaffetz acting way make dan burton darrell issa look like model responsibility bipartisanship even decency notify ranking member elijah cummings something explosive trample basic standard fairness know granted likely chaffetz answer sits ridiculously republican district anchored provo orem cook partisan voting index r gave mitt romney punishing percent vote moreover republican house leadership given full support chaffetz planned fishing expedition mean turn hot light textbook example house become republican control also second worst person world darrell lucus darrell something graduate university north carolina considers journalist old school attempt turn member religious right college succeeded turning religious right worst nightmare charismatic christian unapologetic liberal desire stand scared silence increased survived abusive three year marriage may know daily ko christian dem nc follow twitter darrelllucus connect facebook click buy darrell mello yello connect'"
            ],
            "application/vnd.google.colaboratory.intrinsic+json": {
              "type": "string"
            }
          },
          "metadata": {},
          "execution_count": 27
        }
      ]
    },
    {
      "cell_type": "code",
      "source": [
        "vocab_size = 5000\n",
        "one_hot_rep = [one_hot(words,vocab_size) for words in corpus]\n",
        "one_hot_rep[0]"
      ],
      "metadata": {
        "colab": {
          "base_uri": "https://localhost:8080/"
        },
        "id": "uGfJ7lRs8Cji",
        "outputId": "0308e208-da64-451d-89f1-39aa3bdf7053"
      },
      "execution_count": 29,
      "outputs": [
        {
          "output_type": "execute_result",
          "data": {
            "text/plain": [
              "[2027,\n",
              " 25,\n",
              " 4922,\n",
              " 3498,\n",
              " 4190,\n",
              " 2339,\n",
              " 3124,\n",
              " 2924,\n",
              " 1760,\n",
              " 2580,\n",
              " 2063,\n",
              " 335,\n",
              " 136,\n",
              " 2007,\n",
              " 2924,\n",
              " 1760,\n",
              " 737,\n",
              " 1624,\n",
              " 374,\n",
              " 1393,\n",
              " 2851,\n",
              " 4916,\n",
              " 4573,\n",
              " 3326,\n",
              " 3842,\n",
              " 3894,\n",
              " 3663,\n",
              " 4681,\n",
              " 3842,\n",
              " 2032,\n",
              " 386,\n",
              " 1269,\n",
              " 4094,\n",
              " 1677,\n",
              " 1516,\n",
              " 269,\n",
              " 2202,\n",
              " 3189,\n",
              " 276,\n",
              " 2339,\n",
              " 1286,\n",
              " 2027,\n",
              " 158,\n",
              " 4922,\n",
              " 4576,\n",
              " 4454,\n",
              " 743,\n",
              " 2830,\n",
              " 286,\n",
              " 4094,\n",
              " 1677,\n",
              " 3239,\n",
              " 4374,\n",
              " 2339,\n",
              " 4784,\n",
              " 1926,\n",
              " 3124,\n",
              " 1257,\n",
              " 2202,\n",
              " 672,\n",
              " 1853,\n",
              " 3260,\n",
              " 2936,\n",
              " 185,\n",
              " 489,\n",
              " 1853,\n",
              " 1218,\n",
              " 1334,\n",
              " 1285,\n",
              " 3752,\n",
              " 2918,\n",
              " 4692,\n",
              " 2339,\n",
              " 4855,\n",
              " 4498,\n",
              " 3444,\n",
              " 3498,\n",
              " 1873,\n",
              " 2918,\n",
              " 3923,\n",
              " 2830,\n",
              " 2339,\n",
              " 1136,\n",
              " 1873,\n",
              " 3923,\n",
              " 158,\n",
              " 1334,\n",
              " 489,\n",
              " 2027,\n",
              " 3530,\n",
              " 444,\n",
              " 2771,\n",
              " 2918,\n",
              " 4654,\n",
              " 2827,\n",
              " 1853,\n",
              " 4230,\n",
              " 3211,\n",
              " 522,\n",
              " 4190,\n",
              " 2093,\n",
              " 896,\n",
              " 1834,\n",
              " 2913,\n",
              " 3124,\n",
              " 1340,\n",
              " 2771,\n",
              " 2918,\n",
              " 3923,\n",
              " 2924,\n",
              " 1760,\n",
              " 583,\n",
              " 4338,\n",
              " 1516,\n",
              " 4949,\n",
              " 3444,\n",
              " 2202,\n",
              " 4947,\n",
              " 2658,\n",
              " 2202,\n",
              " 4833,\n",
              " 628,\n",
              " 1853,\n",
              " 2651,\n",
              " 3800,\n",
              " 2575,\n",
              " 772,\n",
              " 445,\n",
              " 2924,\n",
              " 1760,\n",
              " 3425,\n",
              " 136,\n",
              " 645,\n",
              " 2830,\n",
              " 772,\n",
              " 2339,\n",
              " 1548,\n",
              " 4990,\n",
              " 2827,\n",
              " 1853,\n",
              " 4828,\n",
              " 3485,\n",
              " 772,\n",
              " 2830,\n",
              " 597,\n",
              " 4232,\n",
              " 892,\n",
              " 766,\n",
              " 1503,\n",
              " 1930,\n",
              " 4067,\n",
              " 4215,\n",
              " 2043,\n",
              " 1760,\n",
              " 1393,\n",
              " 1873,\n",
              " 4730,\n",
              " 344,\n",
              " 1608,\n",
              " 3980,\n",
              " 2575,\n",
              " 185,\n",
              " 4334,\n",
              " 4943,\n",
              " 1859,\n",
              " 2487,\n",
              " 1419,\n",
              " 4192,\n",
              " 3760,\n",
              " 2274,\n",
              " 1419,\n",
              " 1503,\n",
              " 1760,\n",
              " 3050,\n",
              " 2202,\n",
              " 4730,\n",
              " 872,\n",
              " 2939,\n",
              " 3444,\n",
              " 4848,\n",
              " 3654,\n",
              " 3301,\n",
              " 2558,\n",
              " 464,\n",
              " 845,\n",
              " 2570,\n",
              " 1286,\n",
              " 2107,\n",
              " 2027,\n",
              " 158,\n",
              " 4922,\n",
              " 131,\n",
              " 3124,\n",
              " 3260,\n",
              " 4943,\n",
              " 1760,\n",
              " 825,\n",
              " 4922,\n",
              " 3910,\n",
              " 3485,\n",
              " 495,\n",
              " 1285,\n",
              " 3498,\n",
              " 2830,\n",
              " 2339,\n",
              " 3124,\n",
              " 502,\n",
              " 4855,\n",
              " 1420,\n",
              " 1680,\n",
              " 158,\n",
              " 1334,\n",
              " 489,\n",
              " 3752,\n",
              " 2918,\n",
              " 2954,\n",
              " 2339,\n",
              " 3124,\n",
              " 1873,\n",
              " 3923,\n",
              " 4215,\n",
              " 158,\n",
              " 1334,\n",
              " 489,\n",
              " 2954,\n",
              " 3923,\n",
              " 2771,\n",
              " 2692,\n",
              " 753,\n",
              " 2918,\n",
              " 2924,\n",
              " 1760,\n",
              " 2580,\n",
              " 1532,\n",
              " 2900,\n",
              " 223,\n",
              " 4190,\n",
              " 4541,\n",
              " 916,\n",
              " 2202,\n",
              " 3189,\n",
              " 3095,\n",
              " 1760,\n",
              " 2612,\n",
              " 2918,\n",
              " 3923,\n",
              " 4971,\n",
              " 209,\n",
              " 146,\n",
              " 1718,\n",
              " 4183,\n",
              " 2575,\n",
              " 3326,\n",
              " 1760,\n",
              " 4066,\n",
              " 4916,\n",
              " 223,\n",
              " 158,\n",
              " 3701,\n",
              " 2830,\n",
              " 2479,\n",
              " 1286,\n",
              " 4922,\n",
              " 1532,\n",
              " 1037,\n",
              " 1680,\n",
              " 4730,\n",
              " 4108,\n",
              " 53,\n",
              " 246,\n",
              " 2339,\n",
              " 3088,\n",
              " 4512,\n",
              " 4260,\n",
              " 3124,\n",
              " 1760,\n",
              " 1873,\n",
              " 1701,\n",
              " 502,\n",
              " 4374,\n",
              " 4679,\n",
              " 529,\n",
              " 3260,\n",
              " 4706,\n",
              " 657,\n",
              " 3360,\n",
              " 3246,\n",
              " 3084,\n",
              " 3498,\n",
              " 17,\n",
              " 772,\n",
              " 3246,\n",
              " 3084,\n",
              " 17,\n",
              " 2339,\n",
              " 555,\n",
              " 418,\n",
              " 3519,\n",
              " 1768,\n",
              " 3781,\n",
              " 1064,\n",
              " 4246,\n",
              " 1760,\n",
              " 3919,\n",
              " 1664,\n",
              " 4706,\n",
              " 2701,\n",
              " 1892,\n",
              " 2063,\n",
              " 3779,\n",
              " 4576,\n",
              " 4454,\n",
              " 493,\n",
              " 4720,\n",
              " 1764,\n",
              " 3498,\n",
              " 3390,\n",
              " 860,\n",
              " 1334,\n",
              " 489,\n",
              " 2085,\n",
              " 4653,\n",
              " 3768,\n",
              " 4183,\n",
              " 2124,\n",
              " 600,\n",
              " 1456,\n",
              " 2966,\n",
              " 2830,\n",
              " 4444,\n",
              " 325,\n",
              " 1760,\n",
              " 2110,\n",
              " 2434,\n",
              " 682,\n",
              " 1873,\n",
              " 2102,\n",
              " 2189,\n",
              " 1464,\n",
              " 64,\n",
              " 1960,\n",
              " 3622,\n",
              " 972,\n",
              " 2292,\n",
              " 2684,\n",
              " 2739,\n",
              " 22,\n",
              " 1717,\n",
              " 3622,\n",
              " 2986,\n",
              " 4305,\n",
              " 4233,\n",
              " 1873,\n",
              " 2027,\n",
              " 3224,\n",
              " 3265,\n",
              " 961,\n",
              " 3022,\n",
              " 1760,\n",
              " 897,\n",
              " 2502,\n",
              " 2259,\n",
              " 3346,\n",
              " 4374,\n",
              " 1084,\n",
              " 4828,\n",
              " 3084,\n",
              " 4688,\n",
              " 2027,\n",
              " 4521,\n",
              " 1873,\n",
              " 4267,\n",
              " 743,\n",
              " 286,\n",
              " 4094,\n",
              " 1677,\n",
              " 1516,\n",
              " 2063,\n",
              " 335,\n",
              " 2063,\n",
              " 3768,\n",
              " 293,\n",
              " 4100,\n",
              " 88,\n",
              " 1129,\n",
              " 184,\n",
              " 4272,\n",
              " 1112,\n",
              " 2933,\n",
              " 372,\n",
              " 4374,\n",
              " 489,\n",
              " 1743,\n",
              " 916,\n",
              " 3473,\n",
              " 4508,\n",
              " 2495,\n",
              " 1743,\n",
              " 916,\n",
              " 4094,\n",
              " 1391,\n",
              " 1527,\n",
              " 389,\n",
              " 1038,\n",
              " 1206,\n",
              " 2441,\n",
              " 1228,\n",
              " 2591,\n",
              " 1616,\n",
              " 2040,\n",
              " 3077,\n",
              " 487,\n",
              " 726,\n",
              " 2487,\n",
              " 4719,\n",
              " 3260,\n",
              " 2830,\n",
              " 53,\n",
              " 246,\n",
              " 389,\n",
              " 25,\n",
              " 3904,\n",
              " 4364,\n",
              " 1680,\n",
              " 690,\n",
              " 4347,\n",
              " 1106,\n",
              " 1515,\n",
              " 1963,\n",
              " 2063,\n",
              " 2140,\n",
              " 936,\n",
              " 4347]"
            ]
          },
          "metadata": {},
          "execution_count": 29
        }
      ]
    },
    {
      "cell_type": "code",
      "source": [
        "sent_len = 50\n",
        "embedded_docs = pad_sequences(one_hot_rep,padding='pre',maxlen=sent_len)\n",
        "print(embedded_docs)"
      ],
      "metadata": {
        "colab": {
          "base_uri": "https://localhost:8080/"
        },
        "id": "_K4T2MGP8wDM",
        "outputId": "dcc0b3e0-871d-4010-d3e3-1ec9c26686a0"
      },
      "execution_count": 33,
      "outputs": [
        {
          "output_type": "stream",
          "name": "stdout",
          "text": [
            "[[  88 1129  184 ... 2140  936 4347]\n",
            " [4299 2509 1792 ... 4143  596 2158]\n",
            " [2335 2260  798 ... 2948 3065 4218]\n",
            " ...\n",
            " [ 277 3976 1958 ... 2351 4027 3152]\n",
            " [3830 4655 2952 ... 2669 3921 1675]\n",
            " [2716 4868 2652 ... 1020  885 4241]]\n"
          ]
        }
      ]
    },
    {
      "cell_type": "code",
      "source": [
        "embedded_docs[0]"
      ],
      "metadata": {
        "colab": {
          "base_uri": "https://localhost:8080/"
        },
        "id": "ss7U14kz9GYA",
        "outputId": "46f2a7ed-140e-4d47-9c8c-ba1ca77307ea"
      },
      "execution_count": 34,
      "outputs": [
        {
          "output_type": "execute_result",
          "data": {
            "text/plain": [
              "array([  88, 1129,  184, 4272, 1112, 2933,  372, 4374,  489, 1743,  916,\n",
              "       3473, 4508, 2495, 1743,  916, 4094, 1391, 1527,  389, 1038, 1206,\n",
              "       2441, 1228, 2591, 1616, 2040, 3077,  487,  726, 2487, 4719, 3260,\n",
              "       2830,   53,  246,  389,   25, 3904, 4364, 1680,  690, 4347, 1106,\n",
              "       1515, 1963, 2063, 2140,  936, 4347], dtype=int32)"
            ]
          },
          "metadata": {},
          "execution_count": 34
        }
      ]
    },
    {
      "cell_type": "code",
      "source": [
        "from tensorflow.keras.layers import Dropout"
      ],
      "metadata": {
        "id": "jBNFxiBc_hGA"
      },
      "execution_count": 45,
      "outputs": []
    },
    {
      "cell_type": "code",
      "source": [
        "#creating model\n",
        "embedding_vector_features = 40\n",
        "model = Sequential()\n",
        "model.add(Embedding(vocab_size,embedding_vector_features,input_length=sent_len))\n",
        "model.add(Dropout(0.3))\n",
        "model.add(LSTM(100))\n",
        "model.add(Dropout(0.3))\n",
        "model.add(Dense(1,activation='sigmoid'))\n",
        "model.compile(loss='binary_crossentropy',optimizer='adam',metrics=['accuracy'])\n",
        "print(model.summary())"
      ],
      "metadata": {
        "colab": {
          "base_uri": "https://localhost:8080/"
        },
        "id": "1HsSOmaN9UW6",
        "outputId": "0a363de3-774b-4509-8d7a-ee97df46a61f"
      },
      "execution_count": 46,
      "outputs": [
        {
          "output_type": "stream",
          "name": "stdout",
          "text": [
            "Model: \"sequential_1\"\n",
            "_________________________________________________________________\n",
            " Layer (type)                Output Shape              Param #   \n",
            "=================================================================\n",
            " embedding_1 (Embedding)     (None, 50, 40)            200000    \n",
            "                                                                 \n",
            " dropout (Dropout)           (None, 50, 40)            0         \n",
            "                                                                 \n",
            " lstm_1 (LSTM)               (None, 100)               56400     \n",
            "                                                                 \n",
            " dropout_1 (Dropout)         (None, 100)               0         \n",
            "                                                                 \n",
            " dense_1 (Dense)             (None, 1)                 101       \n",
            "                                                                 \n",
            "=================================================================\n",
            "Total params: 256501 (1001.96 KB)\n",
            "Trainable params: 256501 (1001.96 KB)\n",
            "Non-trainable params: 0 (0.00 Byte)\n",
            "_________________________________________________________________\n",
            "None\n"
          ]
        }
      ]
    },
    {
      "cell_type": "code",
      "source": [
        "import numpy as np\n",
        "X_final = np.array(embedded_docs)\n",
        "y_final = np.array(y)"
      ],
      "metadata": {
        "id": "I96VmN7-9vlD"
      },
      "execution_count": 47,
      "outputs": []
    },
    {
      "cell_type": "code",
      "source": [
        "X_final.shape,y_final.shape"
      ],
      "metadata": {
        "colab": {
          "base_uri": "https://localhost:8080/"
        },
        "id": "QjAe4VLf-F44",
        "outputId": "bfa6f4b0-4887-4498-e1c2-e00ba1801c45"
      },
      "execution_count": 48,
      "outputs": [
        {
          "output_type": "execute_result",
          "data": {
            "text/plain": [
              "((18285, 50), (18285,))"
            ]
          },
          "metadata": {},
          "execution_count": 48
        }
      ]
    },
    {
      "cell_type": "code",
      "source": [
        "from sklearn.model_selection import train_test_split\n",
        "X_train,X_test,y_train,y_test = train_test_split(X_final,y_final,test_size=0.33,random_state=0)"
      ],
      "metadata": {
        "id": "Qt9tAocM-JKP"
      },
      "execution_count": 49,
      "outputs": []
    },
    {
      "cell_type": "code",
      "source": [
        "model.fit(X_train,y_train,validation_data=(X_test,y_test),epochs=10,batch_size=64)"
      ],
      "metadata": {
        "colab": {
          "base_uri": "https://localhost:8080/"
        },
        "id": "UCkzElGy-O3Y",
        "outputId": "ccc4aafd-e8b5-43ab-9b86-f3213881862a"
      },
      "execution_count": 50,
      "outputs": [
        {
          "output_type": "stream",
          "name": "stdout",
          "text": [
            "Epoch 1/10\n",
            "192/192 [==============================] - 16s 69ms/step - loss: 0.3916 - accuracy: 0.8157 - val_loss: 0.2778 - val_accuracy: 0.8830\n",
            "Epoch 2/10\n",
            "192/192 [==============================] - 6s 29ms/step - loss: 0.2101 - accuracy: 0.9171 - val_loss: 0.2658 - val_accuracy: 0.8858\n",
            "Epoch 3/10\n",
            "192/192 [==============================] - 4s 22ms/step - loss: 0.1547 - accuracy: 0.9433 - val_loss: 0.2983 - val_accuracy: 0.8804\n",
            "Epoch 4/10\n",
            "192/192 [==============================] - 3s 14ms/step - loss: 0.1239 - accuracy: 0.9551 - val_loss: 0.3045 - val_accuracy: 0.8789\n",
            "Epoch 5/10\n",
            "192/192 [==============================] - 2s 13ms/step - loss: 0.0958 - accuracy: 0.9691 - val_loss: 0.3508 - val_accuracy: 0.8767\n",
            "Epoch 6/10\n",
            "192/192 [==============================] - 3s 17ms/step - loss: 0.0701 - accuracy: 0.9757 - val_loss: 0.4007 - val_accuracy: 0.8737\n",
            "Epoch 7/10\n",
            "192/192 [==============================] - 3s 13ms/step - loss: 0.0573 - accuracy: 0.9819 - val_loss: 0.3899 - val_accuracy: 0.8775\n",
            "Epoch 8/10\n",
            "192/192 [==============================] - 2s 11ms/step - loss: 0.0437 - accuracy: 0.9854 - val_loss: 0.4633 - val_accuracy: 0.8769\n",
            "Epoch 9/10\n",
            "192/192 [==============================] - 2s 11ms/step - loss: 0.0325 - accuracy: 0.9896 - val_loss: 0.5023 - val_accuracy: 0.8754\n",
            "Epoch 10/10\n",
            "192/192 [==============================] - 2s 10ms/step - loss: 0.0270 - accuracy: 0.9921 - val_loss: 0.5412 - val_accuracy: 0.8734\n"
          ]
        },
        {
          "output_type": "execute_result",
          "data": {
            "text/plain": [
              "<keras.src.callbacks.History at 0x7f062764b5b0>"
            ]
          },
          "metadata": {},
          "execution_count": 50
        }
      ]
    },
    {
      "cell_type": "code",
      "source": [
        "y_pred = model.predict(X_test)"
      ],
      "metadata": {
        "colab": {
          "base_uri": "https://localhost:8080/"
        },
        "id": "XXgGcONu-wNf",
        "outputId": "65bf9ae1-4921-4ab2-96c1-680481876eeb"
      },
      "execution_count": 51,
      "outputs": [
        {
          "output_type": "stream",
          "name": "stdout",
          "text": [
            "189/189 [==============================] - 1s 3ms/step\n"
          ]
        }
      ]
    },
    {
      "cell_type": "code",
      "source": [
        "from sklearn.metrics import confusion_matrix"
      ],
      "metadata": {
        "id": "K0PfjP5a-3B4"
      },
      "execution_count": 52,
      "outputs": []
    },
    {
      "cell_type": "code",
      "source": [
        "confusion_matrix(y_test,y_pred.round())"
      ],
      "metadata": {
        "colab": {
          "base_uri": "https://localhost:8080/"
        },
        "id": "vOvpcdsT-6mI",
        "outputId": "dafdc773-552b-43b5-991c-35331657e274"
      },
      "execution_count": 53,
      "outputs": [
        {
          "output_type": "execute_result",
          "data": {
            "text/plain": [
              "array([[2996,  393],\n",
              "       [ 371, 2275]])"
            ]
          },
          "metadata": {},
          "execution_count": 53
        }
      ]
    },
    {
      "cell_type": "code",
      "source": [
        "from sklearn.metrics import accuracy_score\n",
        "accuracy_score(y_test,y_pred.round())"
      ],
      "metadata": {
        "colab": {
          "base_uri": "https://localhost:8080/"
        },
        "id": "c9lwffCx-99P",
        "outputId": "ddfac7b8-a99d-480d-8500-0e7523225b36"
      },
      "execution_count": 54,
      "outputs": [
        {
          "output_type": "execute_result",
          "data": {
            "text/plain": [
              "0.8734051367025684"
            ]
          },
          "metadata": {},
          "execution_count": 54
        }
      ]
    }
  ]
}